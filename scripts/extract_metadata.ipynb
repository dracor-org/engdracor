{
 "cells": [
  {
   "cell_type": "markdown",
   "metadata": {},
   "source": [
    "# Extract metadata from source tei"
   ]
  },
  {
   "cell_type": "code",
   "execution_count": 7,
   "metadata": {},
   "outputs": [
    {
     "data": {
      "text/plain": [
       "852"
      ]
     },
     "execution_count": 7,
     "metadata": {},
     "output_type": "execute_result"
    }
   ],
   "source": [
    "#get the file names/paths\n",
    "import glob\n",
    "tei_files = glob.glob(\"../tei/*.xml\")\n",
    "len(tei_files)"
   ]
  },
  {
   "cell_type": "code",
   "execution_count": 9,
   "metadata": {},
   "outputs": [
    {
     "data": {
      "text/plain": [
       "'../tei/A36762.xml'"
      ]
     },
     "execution_count": 9,
     "metadata": {},
     "output_type": "execute_result"
    }
   ],
   "source": [
    "tei_files[0]"
   ]
  },
  {
   "cell_type": "code",
   "execution_count": 10,
   "metadata": {},
   "outputs": [],
   "source": [
    "import xml.etree.ElementTree as ET"
   ]
  },
  {
   "cell_type": "code",
   "execution_count": 59,
   "metadata": {},
   "outputs": [],
   "source": [
    "def extract_metadata(file:str):\n",
    "    xml = ET.parse(file)\n",
    "    xml = xml.getroot()\n",
    "    xmlns = {\"tei\": \"http://www.tei-c.org/ns/1.0\", \"ep\" : \"http://earlyprint.org/ns/1.0\" }\n",
    "    \n",
    "    metadata = {}\n",
    "    metadata[\"filepath\"] = file\n",
    "    metadata[\"filename\"] = file.split(\"/\")[-1:][0]\n",
    "    \n",
    "    metadata[\"ep_id\"] = metadata[\"filename\"].split(\".xml\")[0]\n",
    "    \n",
    "    metadata[\"header_title\"] = xml.find(\"tei:teiHeader/tei:fileDesc/tei:titleStmt/tei:title\", xmlns).text\n",
    "     \n",
    "    ep_title = xml.find(\"tei:teiHeader/tei:xenoData/ep:epHeader/ep:title\", xmlns)\n",
    "    if ep_title != None:\n",
    "        metadata[\"ep_title\"] = ep_title.text\n",
    "    \n",
    "    authors = []\n",
    "    ep_authors = xml.findall(\"tei:teiHeader/tei:xenoData/ep:epHeader/ep:author\", xmlns)\n",
    "    for author in ep_authors:\n",
    "        author_names = author.findall(\"ep:name\", xmlns)\n",
    "        for author_name in author_names:\n",
    "            authors.append(author_name.text)\n",
    "    \n",
    "    metadata[\"authors\"] = authors\n",
    "    \n",
    "    ep_genre = xml.find(\"tei:teiHeader/tei:xenoData/ep:epHeader/ep:genre\", xmlns)\n",
    "    if ep_genre != None:\n",
    "        metadata[\"ep_genre\"] = ep_genre.text\n",
    "        \n",
    "    ep_subgenre = xml.find(\"tei:teiHeader/tei:xenoData/ep:epHeader/ep:subgenre\", xmlns)\n",
    "    if ep_subgenre != None:\n",
    "        metadata[\"ep_subgenre\"] = ep_subgenre.text\n",
    "    \n",
    "    author_birth = xml.find(\"tei:teiHeader/tei:fileDesc/tei:sourceDesc/tei:biblFull/tei:titleStmt/tei:author\",xmlns)\n",
    "    if author_birth != None:\n",
    "        metadata[\"author_birth\"] = author_birth.text\n",
    "    \n",
    "    \n",
    "    \n",
    "    return metadata"
   ]
  },
  {
   "cell_type": "code",
   "execution_count": 60,
   "metadata": {},
   "outputs": [
    {
     "data": {
      "text/plain": [
       "{'filepath': '../tei/A36762.xml',\n",
       " 'filename': 'A36762.xml',\n",
       " 'ep_id': 'A36762',\n",
       " 'header_title': \"Psyche debauch'd a comedy : as it was acted at the Theatre-Royal / by T.D.\",\n",
       " 'ep_title': 'Psyche Debauched',\n",
       " 'authors': ['Duffett, Thomas'],\n",
       " 'author_birth': 'Duffett, Thomas.'}"
      ]
     },
     "execution_count": 60,
     "metadata": {},
     "output_type": "execute_result"
    }
   ],
   "source": [
    "extract_metadata(tei_files[0])"
   ]
  },
  {
   "cell_type": "code",
   "execution_count": 61,
   "metadata": {},
   "outputs": [
    {
     "data": {
      "text/plain": [
       "{'filepath': '../tei/A59990.xml',\n",
       " 'filename': 'A59990.xml',\n",
       " 'ep_id': 'A59990',\n",
       " 'header_title': 'The Politician',\n",
       " 'ep_title': 'The Politician',\n",
       " 'authors': ['Shirley, James'],\n",
       " 'ep_genre': 'play',\n",
       " 'ep_subgenre': 'tragedy',\n",
       " 'author_birth': 'Shirley, James, 1596-1666.'}"
      ]
     },
     "execution_count": 61,
     "metadata": {},
     "output_type": "execute_result"
    }
   ],
   "source": [
    "extract_metadata(\"../tei/A59990.xml\")"
   ]
  },
  {
   "cell_type": "code",
   "execution_count": 63,
   "metadata": {},
   "outputs": [],
   "source": [
    "metadata = []\n",
    "for item in tei_files:\n",
    "    data = extract_metadata(item)\n",
    "    metadata.append(data)"
   ]
  },
  {
   "cell_type": "code",
   "execution_count": 64,
   "metadata": {},
   "outputs": [
    {
     "data": {
      "text/plain": [
       "{'filepath': '../tei/A36762.xml',\n",
       " 'filename': 'A36762.xml',\n",
       " 'ep_id': 'A36762',\n",
       " 'header_title': \"Psyche debauch'd a comedy : as it was acted at the Theatre-Royal / by T.D.\",\n",
       " 'ep_title': 'Psyche Debauched',\n",
       " 'authors': ['Duffett, Thomas'],\n",
       " 'author_birth': 'Duffett, Thomas.'}"
      ]
     },
     "execution_count": 64,
     "metadata": {},
     "output_type": "execute_result"
    }
   ],
   "source": [
    "metadata[0]"
   ]
  },
  {
   "cell_type": "code",
   "execution_count": 74,
   "metadata": {},
   "outputs": [],
   "source": [
    "import csv\n",
    "with open('../meta/author_titles.csv', 'w') as file:\n",
    "    writer = csv.writer(file)\n",
    "    writer.writerow([\"id\",\"filename\",\"title\",\"authors\",\"author_full\"])\n",
    "    for item in metadata:\n",
    "        if \"author_birth\" not in item:\n",
    "            item[\"author_birth\"] = \"\"\n",
    "        authors_concat = \";\".join(item[\"authors\"])\n",
    "        row = [item[\"ep_id\"],item[\"filename\"],item[\"ep_title\"],authors_concat,item[\"author_birth\"]]\n",
    "        writer.writerow(row)"
   ]
  },
  {
   "cell_type": "code",
   "execution_count": null,
   "metadata": {},
   "outputs": [],
   "source": []
  }
 ],
 "metadata": {
  "kernelspec": {
   "display_name": "Python 3",
   "language": "python",
   "name": "python3"
  },
  "language_info": {
   "codemirror_mode": {
    "name": "ipython",
    "version": 3
   },
   "file_extension": ".py",
   "mimetype": "text/x-python",
   "name": "python",
   "nbconvert_exporter": "python",
   "pygments_lexer": "ipython3",
   "version": "3.7.0"
  }
 },
 "nbformat": 4,
 "nbformat_minor": 2
}
